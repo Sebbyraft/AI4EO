{
 "cells": [
  {
   "cell_type": "markdown",
   "metadata": {
    "id": "K_w61lsZTemt"
   },
   "source": [
    "# Excercise 1 - Intro to Python and Jupyter Notebook"
   ]
  },
  {
   "cell_type": "markdown",
   "metadata": {
    "id": "BteLQQkyTyKk"
   },
   "source": [
    "## Variables"
   ]
  },
  {
   "cell_type": "code",
   "execution_count": null,
   "metadata": {
    "id": "oU15SPQrQd0i"
   },
   "outputs": [],
   "source": [
    "x = 1\n",
    "y = \"Alpha\"\n",
    "z = True # False"
   ]
  },
  {
   "cell_type": "code",
   "execution_count": null,
   "metadata": {
    "id": "Xl0AvPXrT_nh"
   },
   "outputs": [],
   "source": [
    "print(x)\n",
    "print(y, z)"
   ]
  },
  {
   "cell_type": "markdown",
   "metadata": {
    "id": "6MuoOzc7T0jm"
   },
   "source": [
    "## Lists"
   ]
  },
  {
   "cell_type": "code",
   "execution_count": null,
   "metadata": {
    "id": "hMYyDRVNTwZ1"
   },
   "outputs": [],
   "source": [
    "v1 = [x, x, x]\n",
    "v2 = [y, y, y]"
   ]
  },
  {
   "cell_type": "code",
   "execution_count": null,
   "metadata": {
    "id": "trm4AZCWT_Jz"
   },
   "outputs": [],
   "source": [
    "print(v1)"
   ]
  },
  {
   "cell_type": "markdown",
   "metadata": {
    "id": "zN5lgLl0UHOF"
   },
   "source": [
    "## Control structure"
   ]
  },
  {
   "cell_type": "code",
   "execution_count": null,
   "metadata": {
    "id": "nGtpdz8zUE5s"
   },
   "outputs": [],
   "source": [
    "if z == True: # or if z:\n",
    "  print('Do something...')\n",
    "else:\n",
    "  print('Do something else...')"
   ]
  },
  {
   "cell_type": "code",
   "execution_count": null,
   "metadata": {
    "id": "NnLhIHVpUs5G"
   },
   "outputs": [],
   "source": [
    "if x == 1:\n",
    "  print('A')\n",
    "elif x == 2:\n",
    "  print('B')\n",
    "else:\n",
    "  print('D')"
   ]
  },
  {
   "cell_type": "markdown",
   "metadata": {
    "id": "K1zbgoMIU44s"
   },
   "source": [
    "## Loops"
   ]
  },
  {
   "cell_type": "code",
   "execution_count": null,
   "metadata": {
    "id": "Bgzk1OkbU21a"
   },
   "outputs": [],
   "source": [
    "for i in range(3):\n",
    "  print(i)"
   ]
  },
  {
   "cell_type": "code",
   "execution_count": null,
   "metadata": {
    "id": "_Kjmpn46U-6F"
   },
   "outputs": [],
   "source": [
    "for i in range(len(v1)):\n",
    "  print(v1[i])"
   ]
  },
  {
   "cell_type": "code",
   "execution_count": null,
   "metadata": {
    "id": "No2-VFoyU-I-"
   },
   "outputs": [],
   "source": [
    "for element in v1:\n",
    "  print(element)"
   ]
  },
  {
   "cell_type": "code",
   "execution_count": null,
   "metadata": {
    "id": "1PGHi2PFVIRK"
   },
   "outputs": [],
   "source": [
    "i = 0\n",
    "while i < len(v1):\n",
    "  print(i, v1[i])\n",
    "  i+=1"
   ]
  },
  {
   "cell_type": "markdown",
   "metadata": {
    "id": "NNrOSDqZV8kv"
   },
   "source": [
    "## Function"
   ]
  },
  {
   "cell_type": "code",
   "execution_count": null,
   "metadata": {
    "id": "vbCKJvNSV8M9"
   },
   "outputs": [],
   "source": [
    "def my_func(a):\n",
    "  print(a)\n",
    "\n",
    "my_func('Hey!')"
   ]
  },
  {
   "cell_type": "code",
   "execution_count": null,
   "metadata": {
    "id": "loHt6eHSWHxy"
   },
   "outputs": [],
   "source": [
    "def my_func_2(x):\n",
    "  return x+2*x\n",
    "\n",
    "my_func_2(2)"
   ]
  },
  {
   "cell_type": "markdown",
   "metadata": {},
   "source": [
    "## Object Oriented Programming"
   ]
  },
  {
   "cell_type": "code",
   "execution_count": null,
   "metadata": {},
   "outputs": [],
   "source": [
    "class myObject:\n",
    "    \n",
    "    # Initializer\n",
    "    def __init__(self, attribute):\n",
    "        self.attribute = attribute\n",
    "        self.__my_private_function(2)\n",
    "        \n",
    "    \n",
    "    # Private function\n",
    "    def __my_private_function(self, multiplier):\n",
    "        self.attribute = self.attribute * multiplier\n",
    "    \n",
    "    # Public function\n",
    "    def my_public_function(self):\n",
    "        print('------------ {} -----------'.format(self.attribute))\n",
    "        \n",
    "\n",
    "my_object = myObject(2)\n",
    "my_object.my_public_function()"
   ]
  },
  {
   "cell_type": "markdown",
   "metadata": {
    "id": "VEOToc8iWYkW"
   },
   "source": [
    "## External Library - Numpy"
   ]
  },
  {
   "cell_type": "code",
   "execution_count": null,
   "metadata": {
    "id": "o5ZsDYH0WYPf"
   },
   "outputs": [],
   "source": [
    "import numpy as np\n",
    "\n",
    "x = np.linspace(-np.pi,np.pi,1000)\n",
    "y = np.sin(x)"
   ]
  },
  {
   "cell_type": "markdown",
   "metadata": {
    "id": "A91DlVgYWsfZ"
   },
   "source": [
    "## External Library - Matplotlib"
   ]
  },
  {
   "cell_type": "code",
   "execution_count": null,
   "metadata": {
    "id": "_apqfDBoWi3N"
   },
   "outputs": [],
   "source": [
    "import matplotlib.pyplot as plt\n",
    "\n",
    "plt.plot(x,y)\n",
    "plt.grid()\n",
    "plt.show()"
   ]
  },
  {
   "cell_type": "markdown",
   "metadata": {},
   "source": [
    "## External Library - Pandas"
   ]
  },
  {
   "cell_type": "code",
   "execution_count": null,
   "metadata": {},
   "outputs": [],
   "source": []
  },
  {
   "cell_type": "markdown",
   "metadata": {
    "id": "kT2V9CGWV5dj"
   },
   "source": [
    "## Generator"
   ]
  },
  {
   "cell_type": "code",
   "execution_count": null,
   "metadata": {
    "id": "CRCY5v9mV5K4"
   },
   "outputs": [],
   "source": [
    "def generator():\n",
    "    while True:\n",
    "        z = np.random.rand(10,10)\n",
    "        yield z"
   ]
  },
  {
   "cell_type": "code",
   "execution_count": null,
   "metadata": {
    "id": "KkqZl5dLVQ3s"
   },
   "outputs": [],
   "source": [
    "z = next(iter(generator()))\n",
    "plt.scatter(z[0], z[1])\n",
    "plt.grid()\n",
    "plt.show()"
   ]
  },
  {
   "cell_type": "code",
   "execution_count": null,
   "metadata": {
    "id": "6PKHKRBvXGmI"
   },
   "outputs": [],
   "source": []
  }
 ],
 "metadata": {
  "colab": {
   "name": "Excercise1.jpynb",
   "provenance": []
  },
  "kernelspec": {
   "display_name": "Python 3 (ipykernel)",
   "language": "python",
   "name": "python3"
  },
  "language_info": {
   "codemirror_mode": {
    "name": "ipython",
    "version": 3
   },
   "file_extension": ".py",
   "mimetype": "text/x-python",
   "name": "python",
   "nbconvert_exporter": "python",
   "pygments_lexer": "ipython3",
   "version": "3.8.10"
  }
 },
 "nbformat": 4,
 "nbformat_minor": 4
}
