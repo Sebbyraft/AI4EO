{
  "nbformat": 4,
  "nbformat_minor": 0,
  "metadata": {
    "colab": {
      "name": "Excercise1.jpynb",
      "provenance": []
    },
    "kernelspec": {
      "name": "python3",
      "display_name": "Python 3"
    },
    "language_info": {
      "name": "python"
    }
  },
  "cells": [
    {
      "cell_type": "markdown",
      "metadata": {
        "id": "K_w61lsZTemt"
      },
      "source": [
        "# Excercise 1 - Intro to Python and Jupyter Notebook"
      ]
    },
    {
      "cell_type": "markdown",
      "metadata": {
        "id": "BteLQQkyTyKk"
      },
      "source": [
        "## Variables"
      ]
    },
    {
      "cell_type": "code",
      "metadata": {
        "id": "oU15SPQrQd0i"
      },
      "source": [
        "x = 1\n",
        "y = \"Alpha\"\n",
        "z = True # False"
      ],
      "execution_count": null,
      "outputs": []
    },
    {
      "cell_type": "code",
      "metadata": {
        "id": "Xl0AvPXrT_nh"
      },
      "source": [
        "print(x)\n",
        "print(y, z)"
      ],
      "execution_count": null,
      "outputs": []
    },
    {
      "cell_type": "markdown",
      "metadata": {
        "id": "6MuoOzc7T0jm"
      },
      "source": [
        "## Lists"
      ]
    },
    {
      "cell_type": "code",
      "metadata": {
        "id": "hMYyDRVNTwZ1"
      },
      "source": [
        "v1 = [x, x, x]\n",
        "v2 = [y, y, y]"
      ],
      "execution_count": null,
      "outputs": []
    },
    {
      "cell_type": "code",
      "metadata": {
        "id": "trm4AZCWT_Jz"
      },
      "source": [
        "print(v1)"
      ],
      "execution_count": null,
      "outputs": []
    },
    {
      "cell_type": "markdown",
      "metadata": {
        "id": "zN5lgLl0UHOF"
      },
      "source": [
        "## Control structure"
      ]
    },
    {
      "cell_type": "code",
      "metadata": {
        "id": "nGtpdz8zUE5s"
      },
      "source": [
        "if z == True: # or if z:\n",
        "  print('Do something...')\n",
        "else:\n",
        "  print('Do something else...')"
      ],
      "execution_count": null,
      "outputs": []
    },
    {
      "cell_type": "code",
      "metadata": {
        "id": "NnLhIHVpUs5G"
      },
      "source": [
        "if x == 1:\n",
        "  print('A')\n",
        "elif x == 2:\n",
        "  print('B')\n",
        "else:\n",
        "  print('D')"
      ],
      "execution_count": null,
      "outputs": []
    },
    {
      "cell_type": "markdown",
      "metadata": {
        "id": "K1zbgoMIU44s"
      },
      "source": [
        "## Loops"
      ]
    },
    {
      "cell_type": "code",
      "metadata": {
        "id": "Bgzk1OkbU21a"
      },
      "source": [
        "for i in range(3):\n",
        "  print(i)"
      ],
      "execution_count": null,
      "outputs": []
    },
    {
      "cell_type": "code",
      "metadata": {
        "id": "_Kjmpn46U-6F"
      },
      "source": [
        "for i in range(len(v1)):\n",
        "  print(v1[i])"
      ],
      "execution_count": null,
      "outputs": []
    },
    {
      "cell_type": "code",
      "metadata": {
        "id": "No2-VFoyU-I-"
      },
      "source": [
        "for element in v1:\n",
        "  print(element)"
      ],
      "execution_count": null,
      "outputs": []
    },
    {
      "cell_type": "code",
      "metadata": {
        "id": "1PGHi2PFVIRK"
      },
      "source": [
        "i = 0\n",
        "while i < len(v1):\n",
        "  print(i, v1[i])\n",
        "  i+=1"
      ],
      "execution_count": null,
      "outputs": []
    },
    {
      "cell_type": "markdown",
      "metadata": {
        "id": "NNrOSDqZV8kv"
      },
      "source": [
        "## Function"
      ]
    },
    {
      "cell_type": "code",
      "metadata": {
        "id": "vbCKJvNSV8M9"
      },
      "source": [
        "def my_func(a):\n",
        "  print(a)\n",
        "\n",
        "my_func('Hey!')"
      ],
      "execution_count": null,
      "outputs": []
    },
    {
      "cell_type": "code",
      "metadata": {
        "id": "loHt6eHSWHxy"
      },
      "source": [
        "def my_func_2(x):\n",
        "  return x+2*x\n",
        "\n",
        "my_func_2(2)"
      ],
      "execution_count": null,
      "outputs": []
    },
    {
      "cell_type": "markdown",
      "metadata": {
        "id": "VEOToc8iWYkW"
      },
      "source": [
        "## External Library - Numpy"
      ]
    },
    {
      "cell_type": "code",
      "metadata": {
        "id": "o5ZsDYH0WYPf"
      },
      "source": [
        "import numpy as np\n",
        "\n",
        "x = np.linspace(-np.pi,np.pi,1000)\n",
        "y = np.sin(x)"
      ],
      "execution_count": null,
      "outputs": []
    },
    {
      "cell_type": "markdown",
      "metadata": {
        "id": "A91DlVgYWsfZ"
      },
      "source": [
        "## External Library - Matplotlib"
      ]
    },
    {
      "cell_type": "code",
      "metadata": {
        "id": "_apqfDBoWi3N"
      },
      "source": [
        "import matplotlib.pyplot as plt\n",
        "\n",
        "plt.plot(x,y)\n",
        "plt.grid()\n",
        "plt.show()"
      ],
      "execution_count": null,
      "outputs": []
    },
    {
      "cell_type": "markdown",
      "metadata": {
        "id": "kT2V9CGWV5dj"
      },
      "source": [
        "## Generator"
      ]
    },
    {
      "cell_type": "code",
      "metadata": {
        "id": "CRCY5v9mV5K4"
      },
      "source": [
        "def generator():\n",
        "  while True:\n",
        "    z = np.random.rand(10,10)\n",
        "    yield z"
      ],
      "execution_count": null,
      "outputs": []
    },
    {
      "cell_type": "code",
      "metadata": {
        "id": "KkqZl5dLVQ3s"
      },
      "source": [
        "z = next(iter(generator()))\n",
        "plt.scatter(z[0], z[1])\n",
        "plt.grid()\n",
        "plt.show()"
      ],
      "execution_count": null,
      "outputs": []
    },
    {
      "cell_type": "code",
      "metadata": {
        "id": "6PKHKRBvXGmI"
      },
      "source": [
        ""
      ],
      "execution_count": null,
      "outputs": []
    }
  ]
}